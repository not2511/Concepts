{
 "cells": [
  {
   "cell_type": "code",
   "execution_count": 1,
   "id": "b22aad5e-836b-4e58-9acc-6c7ca70be1c4",
   "metadata": {},
   "outputs": [],
   "source": [
    "import pandas as pd\n",
    "import numpy as np\n",
    "import matplotlib.pyplot as plt\n",
    "import seaborn as sns\n",
    "from sklearn.preprocessing import MinMaxScaler"
   ]
  },
  {
   "cell_type": "code",
   "execution_count": 2,
   "id": "ff14da44-ff32-4936-b14a-e20209da2c22",
   "metadata": {},
   "outputs": [],
   "source": [
    "df=pd.read_csv(\"TRADES_CopyTr_90D_ROI.csv\")"
   ]
  },
  {
   "cell_type": "code",
   "execution_count": 3,
   "id": "4bb92261-4945-4fe8-8ab8-639e79fd2c98",
   "metadata": {},
   "outputs": [
    {
     "data": {
      "text/html": [
       "<div>\n",
       "<style scoped>\n",
       "    .dataframe tbody tr th:only-of-type {\n",
       "        vertical-align: middle;\n",
       "    }\n",
       "\n",
       "    .dataframe tbody tr th {\n",
       "        vertical-align: top;\n",
       "    }\n",
       "\n",
       "    .dataframe thead th {\n",
       "        text-align: right;\n",
       "    }\n",
       "</style>\n",
       "<table border=\"1\" class=\"dataframe\">\n",
       "  <thead>\n",
       "    <tr style=\"text-align: right;\">\n",
       "      <th></th>\n",
       "      <th>Port_IDs</th>\n",
       "      <th>Trade_History</th>\n",
       "    </tr>\n",
       "  </thead>\n",
       "  <tbody>\n",
       "    <tr>\n",
       "      <th>0</th>\n",
       "      <td>3925368433214965504</td>\n",
       "      <td>[{'time': 1718899656000, 'symbol': 'SOLUSDT', ...</td>\n",
       "    </tr>\n",
       "    <tr>\n",
       "      <th>1</th>\n",
       "      <td>4002413037164645377</td>\n",
       "      <td>[{'time': 1718980078000, 'symbol': 'NEARUSDT',...</td>\n",
       "    </tr>\n",
       "    <tr>\n",
       "      <th>2</th>\n",
       "      <td>3923766029921022977</td>\n",
       "      <td>[{'time': 1718677164000, 'symbol': 'ETHUSDT', ...</td>\n",
       "    </tr>\n",
       "    <tr>\n",
       "      <th>3</th>\n",
       "      <td>3994879592543698688</td>\n",
       "      <td>[{'time': 1718678214000, 'symbol': 'ETHUSDT', ...</td>\n",
       "    </tr>\n",
       "    <tr>\n",
       "      <th>4</th>\n",
       "      <td>3926423286576838657</td>\n",
       "      <td>[{'time': 1718979615000, 'symbol': 'ETHUSDT', ...</td>\n",
       "    </tr>\n",
       "    <tr>\n",
       "      <th>5</th>\n",
       "      <td>3987739404272887297</td>\n",
       "      <td>[{'time': 1718979652000, 'symbol': 'ONDOUSDT',...</td>\n",
       "    </tr>\n",
       "    <tr>\n",
       "      <th>6</th>\n",
       "      <td>4030395639953224449</td>\n",
       "      <td>[{'time': 1718981481000, 'symbol': 'ETHUSDT', ...</td>\n",
       "    </tr>\n",
       "    <tr>\n",
       "      <th>7</th>\n",
       "      <td>3953433416230728705</td>\n",
       "      <td>[{'time': 1718942316000, 'symbol': 'BTCUSDT', ...</td>\n",
       "    </tr>\n",
       "    <tr>\n",
       "      <th>8</th>\n",
       "      <td>3919174299855478272</td>\n",
       "      <td>[{'time': 1718853879000, 'symbol': 'ETHUSDT', ...</td>\n",
       "    </tr>\n",
       "    <tr>\n",
       "      <th>9</th>\n",
       "      <td>4029749871687083265</td>\n",
       "      <td>[{'time': 1718675040000, 'symbol': 'FXSUSDT', ...</td>\n",
       "    </tr>\n",
       "  </tbody>\n",
       "</table>\n",
       "</div>"
      ],
      "text/plain": [
       "              Port_IDs                                      Trade_History\n",
       "0  3925368433214965504  [{'time': 1718899656000, 'symbol': 'SOLUSDT', ...\n",
       "1  4002413037164645377  [{'time': 1718980078000, 'symbol': 'NEARUSDT',...\n",
       "2  3923766029921022977  [{'time': 1718677164000, 'symbol': 'ETHUSDT', ...\n",
       "3  3994879592543698688  [{'time': 1718678214000, 'symbol': 'ETHUSDT', ...\n",
       "4  3926423286576838657  [{'time': 1718979615000, 'symbol': 'ETHUSDT', ...\n",
       "5  3987739404272887297  [{'time': 1718979652000, 'symbol': 'ONDOUSDT',...\n",
       "6  4030395639953224449  [{'time': 1718981481000, 'symbol': 'ETHUSDT', ...\n",
       "7  3953433416230728705  [{'time': 1718942316000, 'symbol': 'BTCUSDT', ...\n",
       "8  3919174299855478272  [{'time': 1718853879000, 'symbol': 'ETHUSDT', ...\n",
       "9  4029749871687083265  [{'time': 1718675040000, 'symbol': 'FXSUSDT', ..."
      ]
     },
     "execution_count": 3,
     "metadata": {},
     "output_type": "execute_result"
    }
   ],
   "source": [
    "df.head(10)"
   ]
  },
  {
   "cell_type": "code",
   "execution_count": 4,
   "id": "4d0d7560-d6fc-457f-97a1-7e02d62e9f7b",
   "metadata": {},
   "outputs": [
    {
     "name": "stdout",
     "output_type": "stream",
     "text": [
      "<class 'pandas.core.frame.DataFrame'>\n",
      "RangeIndex: 150 entries, 0 to 149\n",
      "Data columns (total 2 columns):\n",
      " #   Column         Non-Null Count  Dtype \n",
      "---  ------         --------------  ----- \n",
      " 0   Port_IDs       150 non-null    int64 \n",
      " 1   Trade_History  149 non-null    object\n",
      "dtypes: int64(1), object(1)\n",
      "memory usage: 2.5+ KB\n"
     ]
    }
   ],
   "source": [
    "df.info()"
   ]
  },
  {
   "cell_type": "code",
   "execution_count": 5,
   "id": "da5fbbb2-8614-40bf-a1ad-b73c4a089666",
   "metadata": {},
   "outputs": [],
   "source": [
    "import ast"
   ]
  },
  {
   "cell_type": "code",
   "execution_count": 6,
   "id": "4a66998d-81e1-49bf-a781-51c0e3863593",
   "metadata": {},
   "outputs": [
    {
     "name": "stdout",
     "output_type": "stream",
     "text": [
      "[{'time': 1718899656000, 'symbol': 'SOLUSDT', 'side': 'BUY', 'price': 132.537, 'fee': -0.9940275, 'feeAsset': 'USDT', 'quantity': 1988.055, 'quantityAsset': 'USDT', 'realizedProfit': 0.0, 'realizedProfitAsset': 'USDT', 'baseAsset': 'SOL', 'qty': 15.0, 'positionSide': 'LONG', 'activeBuy': True}, {'time': 1718899618000, 'symbol': 'DOGEUSDT', 'side': 'BUY', 'price': 0.12182, 'fee': -0.27979617, 'feeAsset': 'USDT', 'quantity': 1398.98088, 'quantityAsset': 'USDT', 'realizedProfit': 0.0, 'realizedProfitAsset': 'USDT', 'baseAsset': 'DOGE', 'qty': 11484.0, 'positionSide': 'LONG', 'activeBuy': False}, {'time': 1718899618000, 'symbol': 'DOGEUSDT', 'side': 'BUY', 'price': 0.12182, 'fee': -0.03949404, 'feeAsset': 'USDT', 'quantity': 197.47022, 'quantityAsset': 'USDT', 'realizedProfit': 0.0, 'realizedProfitAsset': 'USDT', 'baseAsset': 'DOGE', 'qty': 1621.0, 'positionSide': 'LONG', 'activeBuy': False}]\n"
     ]
    }
   ],
   "source": [
    "# Drop missing trade history\n",
    "df = df.dropna(subset=['Trade_History'])\n",
    "\n",
    "# We have to convert JSON string into list\n",
    "df['Trade_History'] = df['Trade_History'].apply(ast.literal_eval)\n",
    "\n",
    "# Example of first trade\n",
    "sample_trades = df['Trade_History'].iloc[0][:3]  \n",
    "print(sample_trades)\n"
   ]
  },
  {
   "cell_type": "code",
   "execution_count": 7,
   "id": "e2644e15-204f-4243-b457-b405f2fed429",
   "metadata": {},
   "outputs": [
    {
     "name": "stdout",
     "output_type": "stream",
     "text": [
      "            time    symbol side      price       fee feeAsset    quantity  \\\n",
      "0  1718899656000   SOLUSDT  BUY  132.53700 -0.994027     USDT  1988.05500   \n",
      "1  1718899618000  DOGEUSDT  BUY    0.12182 -0.279796     USDT  1398.98088   \n",
      "2  1718899618000  DOGEUSDT  BUY    0.12182 -0.039494     USDT   197.47022   \n",
      "3  1718899616000  DOGEUSDT  BUY    0.12182 -0.008284     USDT    16.56752   \n",
      "4  1718899616000  DOGEUSDT  BUY    0.12182 -0.046109     USDT    92.21774   \n",
      "\n",
      "  quantityAsset  realizedProfit realizedProfitAsset baseAsset      qty  \\\n",
      "0          USDT             0.0                USDT       SOL     15.0   \n",
      "1          USDT             0.0                USDT      DOGE  11484.0   \n",
      "2          USDT             0.0                USDT      DOGE   1621.0   \n",
      "3          USDT             0.0                USDT      DOGE    136.0   \n",
      "4          USDT             0.0                USDT      DOGE    757.0   \n",
      "\n",
      "  positionSide  activeBuy              Port_ID  \n",
      "0         LONG       True  3925368433214965504  \n",
      "1         LONG      False  3925368433214965504  \n",
      "2         LONG      False  3925368433214965504  \n",
      "3         LONG       True  3925368433214965504  \n",
      "4         LONG       True  3925368433214965504  \n"
     ]
    }
   ],
   "source": [
    "trade_data = []\n",
    "\n",
    "# Looping through each account and get all the trade details\n",
    "for index, row in df.iterrows():\n",
    "    for trade in row[\"Trade_History\"]:\n",
    "        trade[\"Port_ID\"] = row[\"Port_IDs\"]  #Using account ID simplify\n",
    "        trade_data.append(trade)\n",
    "\n",
    "# DataFrame of the data\n",
    "trades_df = pd.DataFrame(trade_data)\n",
    "\n",
    "print(trades_df.head())\n"
   ]
  },
  {
   "cell_type": "code",
   "execution_count": 8,
   "id": "cac198dc-ca4e-4704-9a39-bf2c2becd1eb",
   "metadata": {},
   "outputs": [],
   "source": [
    "#ROI\n",
    "trades_df[\"investment\"] = trades_df[\"quantity\"] * trades_df[\"price\"]\n",
    "roi_per_account = trades_df.groupby(\"Port_ID\").apply(lambda x: (x[\"realizedProfit\"].sum() / x[\"investment\"].sum()) * 100)\n"
   ]
  },
  {
   "cell_type": "code",
   "execution_count": 9,
   "id": "cc0ac48f-bbcc-453e-9d23-bb26dc27742c",
   "metadata": {},
   "outputs": [],
   "source": [
    "#PNL\n",
    "pnl_per_account = trades_df.groupby(\"Port_ID\")[\"realizedProfit\"].sum()"
   ]
  },
  {
   "cell_type": "code",
   "execution_count": 10,
   "id": "a18506d9-aa3b-43b0-aa7e-464e06ae2d9f",
   "metadata": {},
   "outputs": [],
   "source": [
    "def max_drawdown(profits):\n",
    "    peak = np.maximum.accumulate(profits)\n",
    "    drawdown = (profits - peak) / peak\n",
    "    return drawdown.min()\n",
    "\n",
    "# Compute MDD per account\n",
    "mdd_per_account = trades_df.groupby(\"Port_ID\")[\"realizedProfit\"].apply(max_drawdown)"
   ]
  },
  {
   "cell_type": "code",
   "execution_count": 11,
   "id": "9a1b5c3d-7dc1-4981-aad3-674901cd66f2",
   "metadata": {},
   "outputs": [],
   "source": [
    "sharpe_per_account = trades_df.groupby(\"Port_ID\")[\"realizedProfit\"].apply(lambda x: x.mean() / x.std() if x.std() != 0 else 0)\n"
   ]
  },
  {
   "cell_type": "code",
   "execution_count": 12,
   "id": "adc5d228-d4a0-446b-bc58-e2d2824dd704",
   "metadata": {},
   "outputs": [],
   "source": [
    "trades_df[\"win\"] = trades_df[\"realizedProfit\"] > 0\n",
    "win_rate_per_account = trades_df.groupby(\"Port_ID\")[\"win\"].mean() * 100\n",
    "win_positions_per_account = trades_df.groupby(\"Port_ID\")[\"win\"].sum()\n"
   ]
  },
  {
   "cell_type": "code",
   "execution_count": 13,
   "id": "80d1186f-4c64-4812-a9a4-4fb90f2ad060",
   "metadata": {},
   "outputs": [],
   "source": [
    "total_positions_per_account = trades_df.groupby(\"Port_ID\")[\"realizedProfit\"].count()\n"
   ]
  },
  {
   "cell_type": "code",
   "execution_count": 14,
   "id": "bc1f1b52-0427-45b5-9e18-af2e48f4a08b",
   "metadata": {},
   "outputs": [],
   "source": [
    "# we have to combine all metrics into a single DataFrame\n",
    "ranked_df = pd.DataFrame({\n",
    "    \"PnL\": pnl_per_account,\n",
    "    \"ROI\": roi_per_account,\n",
    "    \"MDD\": mdd_per_account,\n",
    "#print(\"Still has Inf?\", np.isinf(ranked_df).sum().sum())\n",
    "#print(\"Still has NaN?\", ranked_df.isna().sum().sum())\n",
    "\n",
    "    \"Sharpe\": sharpe_per_account,\n",
    "    \"WinRate\": win_rate_per_account,\n",
    "    \"WinPositions\": win_positions_per_account,\n",
    "    \"TotalPositions\": total_positions_per_account\n",
    "}).reset_index()"
   ]
  },
  {
   "cell_type": "code",
   "execution_count": 16,
   "id": "b2ad655e-6443-4af7-9c45-8b44ccd5f135",
   "metadata": {},
   "outputs": [
    {
     "name": "stdout",
     "output_type": "stream",
     "text": [
      "Has Inf Values: Port_ID            0\n",
      "PnL                0\n",
      "ROI                0\n",
      "MDD               13\n",
      "Sharpe             0\n",
      "WinRate            0\n",
      "WinPositions       0\n",
      "TotalPositions     0\n",
      "dtype: int64\n",
      "Has NaN Values: Port_ID           0\n",
      "PnL               0\n",
      "ROI               0\n",
      "MDD               1\n",
      "Sharpe            0\n",
      "WinRate           0\n",
      "WinPositions      0\n",
      "TotalPositions    0\n",
      "dtype: int64\n",
      "Has Extremely Large Values?\n",
      " Port_ID           149\n",
      "PnL                 0\n",
      "ROI                 0\n",
      "MDD                 0\n",
      "Sharpe              0\n",
      "WinRate             0\n",
      "WinPositions        0\n",
      "TotalPositions      0\n",
      "dtype: int64\n"
     ]
    }
   ],
   "source": [
    "# Check for infinity values\n",
    "print(\"Has Inf Values:\", np.isinf(ranked_df).sum())\n",
    "\n",
    "# Check for NaN \n",
    "print(\"Has NaN Values:\", ranked_df.isna().sum())\n",
    "\n",
    "# Check for extremely large values (first try was showing error related to this)\n",
    "print(\"Has Extremely Large Values?\\n\", (ranked_df > 1e12).sum())"
   ]
  },
  {
   "cell_type": "code",
   "execution_count": 17,
   "id": "3c5fe42d-88c2-44e6-8499-7919280e0260",
   "metadata": {},
   "outputs": [],
   "source": [
    "# Replace infinite values with NaN\n",
    "ranked_df.replace([np.inf, -np.inf], np.nan, inplace=True)\n",
    "\n",
    "# Fill NaN with 0\n",
    "ranked_df.fillna(0, inplace=True)\n",
    "\n",
    "# Cap extreme values (above 1e12, set them to a reasonable max)\n",
    "max_threshold = 1e12\n",
    "ranked_df = ranked_df.clip(lower=-max_threshold, upper=max_threshold)\n"
   ]
  },
  {
   "cell_type": "code",
   "execution_count": 18,
   "id": "fc613e57-0aaf-4ae7-a695-767ea4577a1e",
   "metadata": {},
   "outputs": [
    {
     "name": "stdout",
     "output_type": "stream",
     "text": [
      "Data is now clean and ready for normalization!\n"
     ]
    }
   ],
   "source": [
    "# Ensure all values are finite\n",
    "assert np.isfinite(ranked_df.values).all(), \"There are still invalid values!\"\n",
    "\n",
    "print(\"Data is now clean and ready for normalization!\")\n"
   ]
  },
  {
   "cell_type": "code",
   "execution_count": 19,
   "id": "8c3c7216-4ea0-405f-a168-e71a1cf23635",
   "metadata": {},
   "outputs": [],
   "source": [
    "from sklearn.preprocessing import MinMaxScaler\n",
    "\n",
    "scaler = MinMaxScaler()\n",
    "\n",
    "# Normalize only numeric columns\n",
    "columns_to_normalize = [\"PnL\", \"ROI\", \"Sharpe\", \"WinRate\", \"WinPositions\", \"TotalPositions\"]\n",
    "ranked_df[columns_to_normalize] = scaler.fit_transform(ranked_df[columns_to_normalize])\n",
    "\n",
    "# Invert MDD (Higher MDD should mean lower rank)\n",
    "ranked_df[\"MDD\"] = 1 - scaler.fit_transform(ranked_df[[\"MDD\"]])\n"
   ]
  },
  {
   "cell_type": "code",
   "execution_count": 20,
   "id": "cbea59f0-34ad-49da-a756-1fa908e54354",
   "metadata": {},
   "outputs": [],
   "source": [
    "# Define Weights\n",
    "weights = {\n",
    "    \"PnL\": 0.25,\n",
    "    \"ROI\": 0.20,\n",
    "    \"Sharpe\": 0.20,\n",
    "    \"MDD\": 0.15,\n",
    "    \"WinRate\": 0.10,\n",
    "    \"WinPositions\": 0.05,\n",
    "    \"TotalPositions\": 0.05\n",
    "}\n",
    "\n",
    "# Final Score\n",
    "ranked_df[\"FinalScore\"] = (\n",
    "    ranked_df[\"PnL\"] * weights[\"PnL\"] +\n",
    "    ranked_df[\"ROI\"] * weights[\"ROI\"] +\n",
    "    ranked_df[\"Sharpe\"] * weights[\"Sharpe\"] +\n",
    "    ranked_df[\"MDD\"] * weights[\"MDD\"] +\n",
    "    ranked_df[\"WinRate\"] * weights[\"WinRate\"] +\n",
    "    ranked_df[\"WinPositions\"] * weights[\"WinPositions\"] +\n",
    "    ranked_df[\"TotalPositions\"] * weights[\"TotalPositions\"]\n",
    ")\n",
    "\n",
    "# Rank and Select Top 20\n",
    "top_20_accounts = ranked_df.sort_values(by=\"FinalScore\", ascending=False).head(20)\n",
    "\n",
    "# Save to CSV\n",
    "top_20_accounts.to_csv(\"top_20_accounts.csv\", index=False)"
   ]
  },
  {
   "cell_type": "code",
   "execution_count": 25,
   "id": "a94c9a9c-18c0-48fd-adc7-c3d1df8af14f",
   "metadata": {},
   "outputs": [
    {
     "name": "stdout",
     "output_type": "stream",
     "text": [
      "          Port_ID       PnL       ROI       MDD    Sharpe   WinRate  \\\n",
      "0   1000000000000  1.000000  0.000044  0.073144  0.184159  0.410437   \n",
      "1   1000000000000  0.175160  1.000000  0.005766  0.508167  0.495370   \n",
      "2   1000000000000  0.651145  0.002776  0.009218  0.405607  0.651896   \n",
      "3   1000000000000  0.340079  0.002568  0.005785  0.541433  0.974589   \n",
      "4   1000000000000  0.172191  0.009581  0.010728  0.845473  0.542264   \n",
      "5   1000000000000  0.204284  0.000044  1.000000  0.173191  0.662949   \n",
      "6   1000000000000  0.359980  0.001093  0.018018  0.399265  0.764966   \n",
      "7   1000000000000  0.236268  0.000049  0.006551  0.500737  0.570050   \n",
      "8   1000000000000  0.152697  0.000120  0.007692  1.000000  0.726793   \n",
      "9   1000000000000  0.180246  0.186127  0.005766  0.677803  0.806862   \n",
      "10  1000000000000  0.175131  0.514328  0.005766  0.581819  0.405652   \n",
      "11  1000000000000  0.162667  0.000044  0.005766  0.800487  0.889951   \n",
      "12  1000000000000  0.174934  0.624835  0.005766  0.502089  0.118660   \n",
      "13  1000000000000  0.174379  0.000049  0.009596  0.671963  0.682819   \n",
      "14  1000000000000  0.158698  0.050362  0.005766  0.729868  0.689644   \n",
      "15  1000000000000  0.378374  0.000044  0.038214  0.319877  0.642507   \n",
      "16  1000000000000  0.345444  0.000050  0.009717  0.235657  0.642374   \n",
      "17  1000000000000  0.355064  0.000044  0.006201  0.469640  0.676466   \n",
      "18  1000000000000  0.174586  0.000106  0.044293  0.403546  0.451461   \n",
      "19  1000000000000  0.161372  0.006446  0.005766  0.796743  0.552706   \n",
      "\n",
      "    WinPositions  TotalPositions  FinalScore  \n",
      "0       0.688904        0.994235    0.423013  \n",
      "1       0.011407        0.011366    0.396964  \n",
      "2       0.817836        0.742547    0.389054  \n",
      "3       0.960940        0.583100    0.369348  \n",
      "4       0.910474        0.994564    0.365146  \n",
      "5       0.355340        0.315928    0.335576  \n",
      "6       0.877981        0.679130    0.327121  \n",
      "7       0.958866        0.996376    0.314974  \n",
      "8       0.021777        0.015483    0.313895  \n",
      "9       0.097822        0.069676    0.307773  \n",
      "10      0.004839        0.004777    0.304923  \n",
      "11      0.006913        0.002306    0.291094  \n",
      "12      0.001383        0.004612    0.282149  \n",
      "13      0.333218        0.287432    0.278751  \n",
      "14      0.062565        0.051557    0.271256  \n",
      "15      0.426201        0.391534    0.269447  \n",
      "16      0.697891        0.642728    0.266229  \n",
      "17      0.128932        0.110855    0.263269  \n",
      "18      0.742482        0.974139    0.261998  \n",
      "19      0.020394        0.019601    0.259116  \n"
     ]
    }
   ],
   "source": [
    "# Load the top 20 accounts data (update the file path if needed)\n",
    "top_20_df = pd.read_csv(\"top_20_accounts.csv\")\n",
    "\n",
    "# Display the first few rows\n",
    "print(top_20_df.head(20))"
   ]
  },
  {
   "cell_type": "code",
   "execution_count": 26,
   "id": "6d37e251-f7df-4229-a7db-6a1f2ec73038",
   "metadata": {},
   "outputs": [
    {
     "data": {
      "image/png": "[encoded data removed]",
      "text/plain": [
       "<Figure size 1200x600 with 1 Axes>"
      ]
     },
     "metadata": {},
     "output_type": "display_data"
    }
   ],
   "source": [
    "plt.figure(figsize=(12, 6))\n",
    "\n",
    "# Plot ROI\n",
    "plt.plot(top_20_df[\"Port_ID\"].astype(str), top_20_df[\"ROI\"], marker='o', linestyle='-', label=\"ROI\", color='blue')\n",
    "\n",
    "# Plot PnL\n",
    "plt.plot(top_20_df[\"Port_ID\"].astype(str), top_20_df[\"PnL\"], marker='s', linestyle='--', label=\"PnL\", color='red')\n",
    "\n",
    "plt.xlabel(\"Port_ID\")\n",
    "plt.ylabel(\"Value\")\n",
    "plt.title(\"ROI vs PnL for Top 20 Accounts\")\n",
    "plt.xticks(rotation=45, ha=\"right\")\n",
    "plt.legend()\n",
    "plt.grid(axis=\"y\", linestyle=\"--\", alpha=0.7)\n",
    "\n",
    "plt.show()\n"
   ]
  },
  {
   "cell_type": "code",
   "execution_count": null,
   "id": "87988fe2-4314-44b5-80d5-1bd956a91a14",
   "metadata": {},
   "outputs": [],
   "source": []
  }
 ],
 "metadata": {
  "kernelspec": {
   "display_name": "Python 3 (ipykernel)",
   "language": "python",
   "name": "python3"
  },
  "language_info": {
   "codemirror_mode": {
    "name": "ipython",
    "version": 3
   },
   "file_extension": ".py",
   "mimetype": "text/x-python",
   "name": "python",
   "nbconvert_exporter": "python",
   "pygments_lexer": "ipython3",
   "version": "3.11.5"
  }
 },
 "nbformat": 4,
 "nbformat_minor": 5
}
